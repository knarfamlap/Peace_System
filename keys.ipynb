{
 "cells": [
  {
   "cell_type": "code",
   "execution_count": 1,
   "metadata": {},
   "outputs": [],
   "source": [
    "import os\n",
    "\n",
    "import numpy as np\n",
    "import pandas as pd\n",
    "from sklearn.linear_model import LogisticRegression\n",
    "from sklearn.model_selection import GridSearchCV\n",
    "from sklearn.model_selection import train_test_split\n",
    "\n",
    "from sklearn.metrics import accuracy_score, recall_score, precision_score, f1_score, confusion_matrix, plot_confusion_matrix\n",
    "import matplotlib.pyplot as plt\n",
    "\n",
    "import seaborn as sns"
   ]
  },
  {
   "cell_type": "code",
   "execution_count": 2,
   "metadata": {},
   "outputs": [],
   "source": [
    "def train_n_iters(X, y, n_iters=50):\n",
    "    \"\"\"\n",
    "    Trains logistic regression model on different\n",
    "    train and test sets. \n",
    "    \n",
    "    Args:\n",
    "        X: dataset with all obeservations. Shape (m, n)\n",
    "        y: target values. Shape (m,)\n",
    "        n_iters: number of iteration or number of models that \n",
    "        will be trained. Epochs is an integer\n",
    "    \n",
    "    Returns:\n",
    "        results: Dataframe that contains f1_score, accuracy, precission, recall, true-positive, true-negative,\n",
    "        false-positive, false-negative. Each row represent the ith iteration\n",
    "        \n",
    "        \n",
    "    \"\"\"\n",
    "    \n",
    "    \n",
    "    res = pd.DataFrame()\n",
    "    \n",
    "    for i in range(0, n_iters+1): \n",
    "        # split data\n",
    "        X_train, X_test, y_train, y_test = train_test_split(X,y, test_size=0.55)\n",
    "        # init logistic regression\n",
    "        logreg = LogisticRegression()\n",
    "        # fit model\n",
    "        logreg.fit(X_train, y_train)\n",
    "        # prediction for the current dataset\n",
    "        y_pred = logreg.predict(X_test)\n",
    "        # get metrics\n",
    "        accuracy = accuracy_score(y_test,y_pred)\n",
    "        precission = precision_score(y_test, y_pred)\n",
    "        f1 = f1_score(y_test, y_pred) \n",
    "        recall = recall_score(y_test, y_pred)\n",
    "        conf_matrix = confusion_matrix(y_test, y_pred)\n",
    "        \n",
    "        tp = conf_matrix[1][1] # true positive\n",
    "        tn = conf_matrix[0][0] # true negative\n",
    "        fp = conf_matrix[1][0] # false positive\n",
    "        fn = conf_matrix[0][1] # false negative\n",
    "        \n",
    "        ith_row = {\"accuracy\": accuracy, \"precision\": precission, \n",
    "                   \"f1_score\": f1, \"recall\": recall, \"true_positive\": tp, \"true_negative\": tn, \n",
    "                  \"false_positive\": fp, \"false_negative\": fn}\n",
    "        \n",
    "        res = res.append(ith_row, ignore_index=True)\n",
    "        \n",
    "    return res"
   ]
  },
  {
   "cell_type": "code",
   "execution_count": 3,
   "metadata": {},
   "outputs": [],
   "source": [
    "CSV_LOCATION = \"peace_sys.csv\""
   ]
  },
  {
   "cell_type": "code",
   "execution_count": 4,
   "metadata": {},
   "outputs": [],
   "source": [
    "df = pd.read_csv(CSV_LOCATION)"
   ]
  },
  {
   "cell_type": "code",
   "execution_count": 5,
   "metadata": {},
   "outputs": [],
   "source": [
    "VARS = {'ID1.1Over' : 'Overarching Identity', 'Int2.4Hist' : 'Interconnected Historically', \n",
    "        'Int2.2Econ' : 'Interconnected Economically', 'Dep3.3Econ' : 'Interdependent Economically', \n",
    "        'Dep3.2Ecol' : 'Interdependent Ecologically', 'NWNorm5.1': 'Non-Warring Norms', \n",
    "        'NWVal4.1' : 'Non-Warring Values', 'SymP6': 'Peace Symbols', 'RitP6' : 'Peace Rituals', \n",
    "        'CM8.5Peace' : 'Peaceful Conflict Management Overall'}"
   ]
  },
  {
   "cell_type": "code",
   "execution_count": 6,
   "metadata": {},
   "outputs": [],
   "source": [
    "y = df['PSysRec']"
   ]
  },
  {
   "cell_type": "code",
   "execution_count": 7,
   "metadata": {},
   "outputs": [],
   "source": [
    "X = df[VARS.keys()].replace(9, np.nan)\n",
    "X = X.fillna(X.mean())"
   ]
  },
  {
   "cell_type": "code",
   "execution_count": 8,
   "metadata": {},
   "outputs": [
    {
     "data": {
      "text/html": [
       "<div>\n",
       "<style scoped>\n",
       "    .dataframe tbody tr th:only-of-type {\n",
       "        vertical-align: middle;\n",
       "    }\n",
       "\n",
       "    .dataframe tbody tr th {\n",
       "        vertical-align: top;\n",
       "    }\n",
       "\n",
       "    .dataframe thead th {\n",
       "        text-align: right;\n",
       "    }\n",
       "</style>\n",
       "<table border=\"1\" class=\"dataframe\">\n",
       "  <thead>\n",
       "    <tr style=\"text-align: right;\">\n",
       "      <th></th>\n",
       "      <th>ID1.1Over</th>\n",
       "      <th>Int2.4Hist</th>\n",
       "      <th>Int2.2Econ</th>\n",
       "      <th>Dep3.3Econ</th>\n",
       "      <th>Dep3.2Ecol</th>\n",
       "      <th>NWNorm5.1</th>\n",
       "      <th>NWVal4.1</th>\n",
       "      <th>SymP6</th>\n",
       "      <th>RitP6</th>\n",
       "      <th>CM8.5Peace</th>\n",
       "    </tr>\n",
       "  </thead>\n",
       "  <tbody>\n",
       "    <tr>\n",
       "      <th>0</th>\n",
       "      <td>2.532258</td>\n",
       "      <td>2.913043</td>\n",
       "      <td>2.984375</td>\n",
       "      <td>2.689655</td>\n",
       "      <td>2.5</td>\n",
       "      <td>3.083333</td>\n",
       "      <td>3.171875</td>\n",
       "      <td>2.923077</td>\n",
       "      <td>2.565217</td>\n",
       "      <td>3.1</td>\n",
       "    </tr>\n",
       "    <tr>\n",
       "      <th>1</th>\n",
       "      <td>1.000000</td>\n",
       "      <td>2.913043</td>\n",
       "      <td>1.000000</td>\n",
       "      <td>3.000000</td>\n",
       "      <td>2.5</td>\n",
       "      <td>3.083333</td>\n",
       "      <td>4.000000</td>\n",
       "      <td>2.000000</td>\n",
       "      <td>2.000000</td>\n",
       "      <td>3.1</td>\n",
       "    </tr>\n",
       "    <tr>\n",
       "      <th>2</th>\n",
       "      <td>2.532258</td>\n",
       "      <td>2.913043</td>\n",
       "      <td>2.984375</td>\n",
       "      <td>1.000000</td>\n",
       "      <td>1.0</td>\n",
       "      <td>3.083333</td>\n",
       "      <td>2.500000</td>\n",
       "      <td>2.923077</td>\n",
       "      <td>2.565217</td>\n",
       "      <td>3.1</td>\n",
       "    </tr>\n",
       "    <tr>\n",
       "      <th>3</th>\n",
       "      <td>2.532258</td>\n",
       "      <td>2.913043</td>\n",
       "      <td>3.000000</td>\n",
       "      <td>3.000000</td>\n",
       "      <td>3.0</td>\n",
       "      <td>3.083333</td>\n",
       "      <td>3.000000</td>\n",
       "      <td>2.923077</td>\n",
       "      <td>2.565217</td>\n",
       "      <td>3.1</td>\n",
       "    </tr>\n",
       "    <tr>\n",
       "      <th>4</th>\n",
       "      <td>2.532258</td>\n",
       "      <td>4.000000</td>\n",
       "      <td>4.000000</td>\n",
       "      <td>3.000000</td>\n",
       "      <td>2.0</td>\n",
       "      <td>3.083333</td>\n",
       "      <td>3.000000</td>\n",
       "      <td>3.000000</td>\n",
       "      <td>2.565217</td>\n",
       "      <td>3.1</td>\n",
       "    </tr>\n",
       "  </tbody>\n",
       "</table>\n",
       "</div>"
      ],
      "text/plain": [
       "   ID1.1Over  Int2.4Hist  Int2.2Econ  Dep3.3Econ  Dep3.2Ecol  NWNorm5.1  \\\n",
       "0   2.532258    2.913043    2.984375    2.689655         2.5   3.083333   \n",
       "1   1.000000    2.913043    1.000000    3.000000         2.5   3.083333   \n",
       "2   2.532258    2.913043    2.984375    1.000000         1.0   3.083333   \n",
       "3   2.532258    2.913043    3.000000    3.000000         3.0   3.083333   \n",
       "4   2.532258    4.000000    4.000000    3.000000         2.0   3.083333   \n",
       "\n",
       "   NWVal4.1     SymP6     RitP6  CM8.5Peace  \n",
       "0  3.171875  2.923077  2.565217         3.1  \n",
       "1  4.000000  2.000000  2.000000         3.1  \n",
       "2  2.500000  2.923077  2.565217         3.1  \n",
       "3  3.000000  2.923077  2.565217         3.1  \n",
       "4  3.000000  3.000000  2.565217         3.1  "
      ]
     },
     "execution_count": 8,
     "metadata": {},
     "output_type": "execute_result"
    }
   ],
   "source": [
    "X.head(5)"
   ]
  },
  {
   "cell_type": "code",
   "execution_count": 9,
   "metadata": {},
   "outputs": [
    {
     "data": {
      "text/plain": [
       "<Figure size 432x288 with 0 Axes>"
      ]
     },
     "metadata": {},
     "output_type": "display_data"
    }
   ],
   "source": [
    "plt.savefig('confusion_matrix.pdf', bbox_inches='tight')"
   ]
  },
  {
   "cell_type": "code",
   "execution_count": 10,
   "metadata": {},
   "outputs": [],
   "source": [
    "res = train_n_iters(X, y, n_iters=100)"
   ]
  },
  {
   "cell_type": "code",
   "execution_count": 11,
   "metadata": {},
   "outputs": [
    {
     "data": {
      "text/html": [
       "<div>\n",
       "<style scoped>\n",
       "    .dataframe tbody tr th:only-of-type {\n",
       "        vertical-align: middle;\n",
       "    }\n",
       "\n",
       "    .dataframe tbody tr th {\n",
       "        vertical-align: top;\n",
       "    }\n",
       "\n",
       "    .dataframe thead th {\n",
       "        text-align: right;\n",
       "    }\n",
       "</style>\n",
       "<table border=\"1\" class=\"dataframe\">\n",
       "  <thead>\n",
       "    <tr style=\"text-align: right;\">\n",
       "      <th></th>\n",
       "      <th>accuracy</th>\n",
       "      <th>f1_score</th>\n",
       "      <th>false_negative</th>\n",
       "      <th>false_positive</th>\n",
       "      <th>precision</th>\n",
       "      <th>recall</th>\n",
       "      <th>true_negative</th>\n",
       "      <th>true_positive</th>\n",
       "    </tr>\n",
       "  </thead>\n",
       "  <tbody>\n",
       "    <tr>\n",
       "      <th>0</th>\n",
       "      <td>0.692308</td>\n",
       "      <td>0.500000</td>\n",
       "      <td>1.0</td>\n",
       "      <td>7.0</td>\n",
       "      <td>0.800000</td>\n",
       "      <td>0.363636</td>\n",
       "      <td>14.0</td>\n",
       "      <td>4.0</td>\n",
       "    </tr>\n",
       "    <tr>\n",
       "      <th>1</th>\n",
       "      <td>0.692308</td>\n",
       "      <td>0.428571</td>\n",
       "      <td>0.0</td>\n",
       "      <td>8.0</td>\n",
       "      <td>1.000000</td>\n",
       "      <td>0.272727</td>\n",
       "      <td>15.0</td>\n",
       "      <td>3.0</td>\n",
       "    </tr>\n",
       "    <tr>\n",
       "      <th>2</th>\n",
       "      <td>0.807692</td>\n",
       "      <td>0.666667</td>\n",
       "      <td>4.0</td>\n",
       "      <td>1.0</td>\n",
       "      <td>0.555556</td>\n",
       "      <td>0.833333</td>\n",
       "      <td>16.0</td>\n",
       "      <td>5.0</td>\n",
       "    </tr>\n",
       "    <tr>\n",
       "      <th>3</th>\n",
       "      <td>0.692308</td>\n",
       "      <td>0.333333</td>\n",
       "      <td>0.0</td>\n",
       "      <td>8.0</td>\n",
       "      <td>1.000000</td>\n",
       "      <td>0.200000</td>\n",
       "      <td>16.0</td>\n",
       "      <td>2.0</td>\n",
       "    </tr>\n",
       "    <tr>\n",
       "      <th>4</th>\n",
       "      <td>0.923077</td>\n",
       "      <td>0.888889</td>\n",
       "      <td>0.0</td>\n",
       "      <td>2.0</td>\n",
       "      <td>1.000000</td>\n",
       "      <td>0.800000</td>\n",
       "      <td>16.0</td>\n",
       "      <td>8.0</td>\n",
       "    </tr>\n",
       "    <tr>\n",
       "      <th>...</th>\n",
       "      <td>...</td>\n",
       "      <td>...</td>\n",
       "      <td>...</td>\n",
       "      <td>...</td>\n",
       "      <td>...</td>\n",
       "      <td>...</td>\n",
       "      <td>...</td>\n",
       "      <td>...</td>\n",
       "    </tr>\n",
       "    <tr>\n",
       "      <th>96</th>\n",
       "      <td>0.730769</td>\n",
       "      <td>0.461538</td>\n",
       "      <td>0.0</td>\n",
       "      <td>7.0</td>\n",
       "      <td>1.000000</td>\n",
       "      <td>0.300000</td>\n",
       "      <td>16.0</td>\n",
       "      <td>3.0</td>\n",
       "    </tr>\n",
       "    <tr>\n",
       "      <th>97</th>\n",
       "      <td>0.923077</td>\n",
       "      <td>0.833333</td>\n",
       "      <td>0.0</td>\n",
       "      <td>2.0</td>\n",
       "      <td>1.000000</td>\n",
       "      <td>0.714286</td>\n",
       "      <td>19.0</td>\n",
       "      <td>5.0</td>\n",
       "    </tr>\n",
       "    <tr>\n",
       "      <th>98</th>\n",
       "      <td>0.884615</td>\n",
       "      <td>0.769231</td>\n",
       "      <td>0.0</td>\n",
       "      <td>3.0</td>\n",
       "      <td>1.000000</td>\n",
       "      <td>0.625000</td>\n",
       "      <td>18.0</td>\n",
       "      <td>5.0</td>\n",
       "    </tr>\n",
       "    <tr>\n",
       "      <th>99</th>\n",
       "      <td>0.846154</td>\n",
       "      <td>0.750000</td>\n",
       "      <td>0.0</td>\n",
       "      <td>4.0</td>\n",
       "      <td>1.000000</td>\n",
       "      <td>0.600000</td>\n",
       "      <td>16.0</td>\n",
       "      <td>6.0</td>\n",
       "    </tr>\n",
       "    <tr>\n",
       "      <th>100</th>\n",
       "      <td>0.769231</td>\n",
       "      <td>0.666667</td>\n",
       "      <td>3.0</td>\n",
       "      <td>3.0</td>\n",
       "      <td>0.666667</td>\n",
       "      <td>0.666667</td>\n",
       "      <td>14.0</td>\n",
       "      <td>6.0</td>\n",
       "    </tr>\n",
       "  </tbody>\n",
       "</table>\n",
       "<p>101 rows × 8 columns</p>\n",
       "</div>"
      ],
      "text/plain": [
       "     accuracy  f1_score  false_negative  false_positive  precision    recall  \\\n",
       "0    0.692308  0.500000             1.0             7.0   0.800000  0.363636   \n",
       "1    0.692308  0.428571             0.0             8.0   1.000000  0.272727   \n",
       "2    0.807692  0.666667             4.0             1.0   0.555556  0.833333   \n",
       "3    0.692308  0.333333             0.0             8.0   1.000000  0.200000   \n",
       "4    0.923077  0.888889             0.0             2.0   1.000000  0.800000   \n",
       "..        ...       ...             ...             ...        ...       ...   \n",
       "96   0.730769  0.461538             0.0             7.0   1.000000  0.300000   \n",
       "97   0.923077  0.833333             0.0             2.0   1.000000  0.714286   \n",
       "98   0.884615  0.769231             0.0             3.0   1.000000  0.625000   \n",
       "99   0.846154  0.750000             0.0             4.0   1.000000  0.600000   \n",
       "100  0.769231  0.666667             3.0             3.0   0.666667  0.666667   \n",
       "\n",
       "     true_negative  true_positive  \n",
       "0             14.0            4.0  \n",
       "1             15.0            3.0  \n",
       "2             16.0            5.0  \n",
       "3             16.0            2.0  \n",
       "4             16.0            8.0  \n",
       "..             ...            ...  \n",
       "96            16.0            3.0  \n",
       "97            19.0            5.0  \n",
       "98            18.0            5.0  \n",
       "99            16.0            6.0  \n",
       "100           14.0            6.0  \n",
       "\n",
       "[101 rows x 8 columns]"
      ]
     },
     "execution_count": 11,
     "metadata": {},
     "output_type": "execute_result"
    }
   ],
   "source": [
    "res"
   ]
  },
  {
   "cell_type": "code",
   "execution_count": 12,
   "metadata": {},
   "outputs": [],
   "source": [
    "mean_f1_score = np.round(res['f1_score'].mean(), 3) \n",
    "mean_accuracy_score = np.round(res['accuracy'].mean(), 3)\n",
    "mean_precision_score = np.round(res['precision'].mean(), 3)\n",
    "mean_recall_score = np.round(res['recall'].mean(), 3) "
   ]
  },
  {
   "cell_type": "code",
   "execution_count": 13,
   "metadata": {},
   "outputs": [
    {
     "name": "stdout",
     "output_type": "stream",
     "text": [
      "Mean F1 Score: 0.776\n",
      "Mean Accuracy: 0.866\n",
      "Mean Precision: 0.927\n",
      "Mean Recall: 0.694\n"
     ]
    }
   ],
   "source": [
    "print(\"Mean F1 Score: \" + str(mean_f1_score))\n",
    "print(\"Mean Accuracy: \" + str(mean_accuracy_score))\n",
    "print(\"Mean Precision: \" + str(mean_precision_score))\n",
    "print(\"Mean Recall: \" + str(mean_recall_score))"
   ]
  },
  {
   "cell_type": "code",
   "execution_count": 14,
   "metadata": {},
   "outputs": [],
   "source": [
    "mean_tn = np.round(res['true_negative'].mean(), 3)\n",
    "mean_tp = np.round(res['true_positive'].mean(), 3)\n",
    "mean_fn = np.round(res['false_negative'].mean(), 3)\n",
    "mean_fp = np.round(res['false_positive'].mean(), 3)"
   ]
  },
  {
   "cell_type": "code",
   "execution_count": 15,
   "metadata": {},
   "outputs": [],
   "source": [
    "mean_conf_matrix = [[mean_tn, mean_fn], [mean_fp, mean_tp]]"
   ]
  },
  {
   "cell_type": "code",
   "execution_count": 16,
   "metadata": {},
   "outputs": [
    {
     "data": {
      "text/plain": [
       "[[16.287, 0.574], [2.921, 6.218]]"
      ]
     },
     "execution_count": 16,
     "metadata": {},
     "output_type": "execute_result"
    }
   ],
   "source": [
    "mean_conf_matrix"
   ]
  },
  {
   "cell_type": "code",
   "execution_count": 17,
   "metadata": {},
   "outputs": [
    {
     "data": {
      "image/png": "[encoded data removed]",
      "text/plain": [
       "<Figure size 432x288 with 2 Axes>"
      ]
     },
     "metadata": {
      "needs_background": "light"
     },
     "output_type": "display_data"
    }
   ],
   "source": [
    "mean_conf_matrix_plot = sns.heatmap(mean_conf_matrix, annot=True)"
   ]
  },
  {
   "cell_type": "code",
   "execution_count": 18,
   "metadata": {},
   "outputs": [],
   "source": [
    "# save confusion matrix\n",
    "mean_conf_matrix_plot.get_figure().savefig(\"mean_confusion_matrix.png\")"
   ]
  },
  {
   "cell_type": "code",
   "execution_count": 19,
   "metadata": {},
   "outputs": [],
   "source": [
    "mean_metrics = {\n",
    "\"Metrics\": {   \"f1_score\": mean_f1_score, \"accuracy\": mean_accuracy_score,\n",
    "    \"precision\": mean_precision_score, \"recall\": mean_recall_score}\n",
    "}"
   ]
  },
  {
   "cell_type": "code",
   "execution_count": 20,
   "metadata": {},
   "outputs": [],
   "source": [
    "mean_metrics = pd.DataFrame({\n",
    "    \"Metric\": ['F1 Score', 'Precission', 'Recall', 'Accuracy'], \n",
    "    \"Score\": [mean_f1_score, mean_precision_score, mean_recall_score, mean_accuracy_score]\n",
    "})"
   ]
  },
  {
   "cell_type": "code",
   "execution_count": 21,
   "metadata": {},
   "outputs": [],
   "source": [
    "metric_names = ['F1 Score', 'Precission', 'Recall', 'Accuracy']\n",
    "mean_scores = [mean_f1_score, mean_precision_score, mean_recall_score, mean_accuracy_score]"
   ]
  },
  {
   "cell_type": "code",
   "execution_count": 22,
   "metadata": {},
   "outputs": [
    {
     "data": {
      "image/png": "[encoded data removed]",
      "text/plain": [
       "<Figure size 432x288 with 1 Axes>"
      ]
     },
     "metadata": {
      "needs_background": "light"
     },
     "output_type": "display_data"
    }
   ],
   "source": [
    "fig = plt.figure()\n",
    "ax = fig.add_axes([0,0,1,1])\n",
    "ax.bar(metric_names, mean_scores)\n",
    "plt.ylabel('Mean Scores')\n",
    "plt.xlabel('Metric')\n",
    "plt.show()"
   ]
  },
  {
   "cell_type": "code",
   "execution_count": 24,
   "metadata": {},
   "outputs": [],
   "source": [
    "res.to_csv(\"100_iter_result.csv\")"
   ]
  },
  {
   "cell_type": "code",
   "execution_count": null,
   "metadata": {},
   "outputs": [],
   "source": []
  }
 ],
 "metadata": {
  "kernelspec": {
   "display_name": "Python 3",
   "language": "python",
   "name": "python3"
  },
  "language_info": {
   "codemirror_mode": {
    "name": "ipython",
    "version": 3
   },
   "file_extension": ".py",
   "mimetype": "text/x-python",
   "name": "python",
   "nbconvert_exporter": "python",
   "pygments_lexer": "ipython3",
   "version": "3.7.6"
  }
 },
 "nbformat": 4,
 "nbformat_minor": 4
}
