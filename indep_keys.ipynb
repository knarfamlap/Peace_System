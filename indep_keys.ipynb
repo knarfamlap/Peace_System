{
 "cells": [
  {
   "cell_type": "code",
   "execution_count": 1,
   "metadata": {
    "id": "3KaadkLYf5_8"
   },
   "outputs": [],
   "source": [
    "import numpy as np\n",
    "import pandas as pd\n",
    "import matplotlib.pyplot as plt\n",
    "import seaborn as sns\n",
    "from sklearn.linear_model import LogisticRegression\n",
    "from sklearn.metrics import accuracy_score, recall_score, precision_score, f1_score, confusion_matrix, plot_confusion_matrix\n"
   ]
  },
  {
   "cell_type": "code",
   "execution_count": 2,
   "metadata": {
    "id": "aK8KXoN8f6AD"
   },
   "outputs": [],
   "source": [
    "SEED = 42\n",
    "CSV_LOCATION = \"peace_sys.csv\""
   ]
  },
  {
   "cell_type": "code",
   "execution_count": 3,
   "metadata": {},
   "outputs": [],
   "source": [
    "NAN_CULTURES = ['Gilbertese', 'Rhade', 'Yanomamo', 'Kurds', 'Yapese']"
   ]
  },
  {
   "cell_type": "code",
   "execution_count": 4,
   "metadata": {
    "id": "tYxbDen_f6AI"
   },
   "outputs": [],
   "source": [
    "VARS = {'ID1.1Over' : 'Overarching Identity', 'Int2.4Hist' : 'Interconnected Historically', \n",
    "        'Int2.2Econ' : 'Interconnected Economically', 'Dep3.3Econ' : 'Interdependent Economically', \n",
    "        'Dep3.2Ecol' : 'Interdependent Ecologically', 'NWNorm5.1': 'Non-Warring Norms', \n",
    "        'NWVal4.1' : 'Non-Warring Values', 'SymP6': 'Peace Symbols', 'RitP6' : 'Peace Rituals', \n",
    "        'CM8.5Peace' : 'Peaceful Conflict Management Overall'}"
   ]
  },
  {
   "cell_type": "code",
   "execution_count": 5,
   "metadata": {
    "id": "mUKVvBk6f6AL"
   },
   "outputs": [],
   "source": [
    "def mode(x):\n",
    "    \"\"\"\n",
    "    Parameters\n",
    "    ----------\n",
    "        x: 1D numpy array\n",
    "        \n",
    "    Return\n",
    "    ------\n",
    "        scalar representing the mode of the arr\n",
    "    \"\"\"\n",
    "    # count number of 1 in x\n",
    "    one_sum = np.count_nonzero(x == 1)\n",
    "    # count number of 0 in x\n",
    "    zero_sum = np.count_nonzero(x == 0)\n",
    "    # return mode if a mode exists\n",
    "    if one_sum > zero_sum:\n",
    "        return 1\n",
    "\n",
    "    if one_sum == zero_sum:\n",
    "        return 2\n",
    "    \n",
    "    return 0"
   ]
  },
  {
   "cell_type": "code",
   "execution_count": 6,
   "metadata": {
    "id": "CgUcnGcUf6AP"
   },
   "outputs": [],
   "source": [
    "def logistic_sigmoid(x, beta, intercept):\n",
    "    \"\"\"\n",
    "    Args: \n",
    "        x: scalar with score [1-4] for each factor for each obeservation.\n",
    "        betas: scalar betas extracted from logreg model.\n",
    "        intercept: number extracted from logreg model. Denoted as beta_0\n",
    "    Returns:\n",
    "        scalar that represent the probability\n",
    "    \"\"\"\n",
    "    \n",
    "    return 1 / (1 + np.exp(-(intercept + beta * x)))"
   ]
  },
  {
   "cell_type": "code",
   "execution_count": 7,
   "metadata": {
    "id": "lLgpoEppf6AR"
   },
   "outputs": [],
   "source": [
    "def train_on_feature(X, y):\n",
    "    \"\"\"\n",
    "    Trains logistic regression model on 1 feature.  X and y must have equal dimensions.\n",
    "    \n",
    "    Parameters\n",
    "    ----------\n",
    "    X: dataframe containing 1 column. Shape is (m, 1). m is the number of rows.\n",
    "        X can contain Nan values.\n",
    "    y: dataframe containing labels for each obeservation in X. \n",
    "        Same is (m, 1). m is the number of rows. \n",
    "        \n",
    "    Returns\n",
    "    -------\n",
    "    \n",
    "            \n",
    "    \"\"\"\n",
    "    # store the freature name for reference\n",
    "    feature_name = X.columns[0]\n",
    "    label = 'label'\n",
    "    # concatenate feature and labels into one df\n",
    "    concat_df = pd.DataFrame({feature_name: list(X[feature_name]), label: y})\n",
    "    # drop nan values\n",
    "    concat_df = concat_df.dropna()\n",
    "    # reasign values to feature df\n",
    "    X = pd.DataFrame(concat_df[feature_name])\n",
    "    # reasign values to label df\n",
    "    y = pd.DataFrame(concat_df[label])\n",
    "    # init model\n",
    "    logreg = LogisticRegression(random_state=SEED)\n",
    "    # train model\n",
    "    logreg.fit(X, y[label].ravel())\n",
    "    \n",
    "    intercept = logreg.intercept_[0]\n",
    "    beta = logreg.coef_[0][0]\n",
    "    \n",
    "    return beta, intercept\n"
   ]
  },
  {
   "cell_type": "code",
   "execution_count": 8,
   "metadata": {
    "id": "hetWCxuPf6AT"
   },
   "outputs": [],
   "source": [
    "def generate_betas_and_intercepts(X, y):\n",
    "    \"\"\"\n",
    "    Genearates beta, and intercept for each feature in X. \n",
    "    \n",
    "    Parameters\n",
    "    ---------\n",
    "    X: dataframe containing all observations. Shape (m, n)\n",
    "    y: dataframe containg all labels for each observaation in X. Shape (m, 1)\n",
    "    \n",
    "    Returns\n",
    "    -------\n",
    "    res: dataframe containg beta and intercepts for each feature. res columns have the pattern\n",
    "        (beta, intercept)\n",
    "    \n",
    "    \"\"\"\n",
    "    # store beta and intercept for each feature\n",
    "    res = pd.DataFrame()\n",
    "    \n",
    "    for col in X.columns:\n",
    "        # get the df for col\n",
    "        feature_df = pd.DataFrame(X[col])\n",
    "        # get prediciton\n",
    "        beta, intercept = train_on_feature(feature_df, y)\n",
    "        # add to the other predictions\n",
    "        res[col] = [(beta, intercept)]\n",
    "        \n",
    "    return res"
   ]
  },
  {
   "cell_type": "code",
   "execution_count": 9,
   "metadata": {
    "id": "mIwCD1yKf6AU"
   },
   "outputs": [],
   "source": [
    "def predict_with_given_betas_and_intercepts(X, betas_intercepts):\n",
    "    \"\"\"\n",
    "    Predict a 0 or 1 value for each observation given the beta and intercept for each feature\n",
    "    \n",
    "    Parameters\n",
    "    ---------\n",
    "    X: dataframe containing all observations. Shape (m, n)\n",
    "    betas_intercepts: dataframe containing one row. each cell contains a tuple described as (beta, intercept).\n",
    "    \n",
    "    Returns\n",
    "    ------\n",
    "    y_preds: array that cointains a predictions for each culture(observation). There are 42 observations\n",
    "    \n",
    "    \"\"\"\n",
    "    # get the humber of rows\n",
    "    num_rows = X.shape[0]\n",
    "    y_preds = []\n",
    "    \n",
    "    for i in range(num_rows):\n",
    "        # get the current row\n",
    "        curr = X.iloc[i]\n",
    "        # create copy of betas_intercepts df\n",
    "        beta_inter_copy = betas_intercepts\n",
    "        # append the row to the copy\n",
    "        concat_df = beta_inter_copy.append(curr)\n",
    "        # drop columns that have missing values\n",
    "        concat_df = concat_df.dropna(axis=1)\n",
    "        # contains all the prediction for each observation \n",
    "        preds = []\n",
    "        for col in concat_df.columns:\n",
    "            # get the beta\n",
    "            beta = concat_df[col].iloc[0][0] \n",
    "            # get the intercept\n",
    "            intercept = concat_df[col].iloc[0][1]\n",
    "            # get the observation that is an int from 1-4\n",
    "            observation = concat_df[col].iloc[1]\n",
    "            obs_pred = logistic_sigmoid(observation, beta, intercept)\n",
    "            # append to predictions arr\n",
    "            preds.append(obs_pred)\n",
    "        # convert values >= 0.5 to 1, otherwise 0\n",
    "        preds = list(map(lambda x: 1 if x >= 0.5 else 0, preds))\n",
    "        # get the mode to give a final classification\n",
    "        preds_mode = mode(np.array(preds))\n",
    "        y_preds.append(preds_mode)\n",
    "        \n",
    "    return y_preds\n"
   ]
  },
  {
   "cell_type": "code",
   "execution_count": 10,
   "metadata": {
    "id": "tiGLRc0rf6AV"
   },
   "outputs": [],
   "source": [
    "df = pd.read_csv(CSV_LOCATION)"
   ]
  },
  {
   "cell_type": "code",
   "execution_count": 11,
   "metadata": {},
   "outputs": [],
   "source": [
    "# remove cultures that contain all nan vals\n",
    "df = df[df['Name'].map(lambda x: x not in NAN_CULTURES)]\n",
    "# reset indexing of dataframe\n",
    "df = df.reset_index()"
   ]
  },
  {
   "cell_type": "code",
   "execution_count": 12,
   "metadata": {
    "id": "NdCisxaVf6AW"
   },
   "outputs": [],
   "source": [
    "X = df[VARS.keys()].replace(9, np.nan)"
   ]
  },
  {
   "cell_type": "code",
   "execution_count": 13,
   "metadata": {
    "id": "CmYBA2zhf6AX"
   },
   "outputs": [],
   "source": [
    "y = df[\"PSysRec\"]"
   ]
  },
  {
   "cell_type": "code",
   "execution_count": 14,
   "metadata": {},
   "outputs": [],
   "source": [
    "# Train loop\n",
    "num_rows = X.shape[0]\n",
    "y_preds = [] \n",
    "\n",
    "for i in range(num_rows):\n",
    "    # get the test culture\n",
    "    X_test = X[i:i+1]\n",
    "    y_test = X[i:i+1]\n",
    "    \n",
    "    # create train sets without single culture\n",
    "    X_train = X.drop(index=i, axis=1)\n",
    "    y_train = y.drop(index=i, axis=1)\n",
    "    \n",
    "    # get learned betas from logreg\n",
    "    betas_inter = generate_betas_and_intercepts(X_train, y_train)\n",
    "    \n",
    "    # returns prediction for a single culture\n",
    "    y_hat = predict_with_given_betas_and_intercepts(X_test, betas_inter)[0]\n",
    "    y_preds.append(y_hat)\n"
   ]
  },
  {
   "cell_type": "code",
   "execution_count": 15,
   "metadata": {},
   "outputs": [],
   "source": [
    "conf_matrix = confusion_matrix(y, y_preds)"
   ]
  },
  {
   "cell_type": "code",
   "execution_count": 16,
   "metadata": {},
   "outputs": [
    {
     "data": {
<<<<<<< HEAD
      "image/png": "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\n",
=======
      "image/png": "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\n",
>>>>>>> d3f6863000245c32b4c856723e17425c293923c2
      "text/plain": [
       "<Figure size 432x288 with 2 Axes>"
      ]
     },
     "metadata": {
      "needs_background": "light"
     },
     "output_type": "display_data"
    }
   ],
   "source": [
    "plt.rcParams['savefig.facecolor'] = 'white'\n",
    "conf_matrix_plot = sns.heatmap(conf_matrix, annot=True)\n",
    "plt.title('Confusion matrix,   0=non-peace, 1=peace', y=1.1)\n",
    "\n",
    "plt.ylabel('Actual label')\n",
    "\n",
    "plt.xlabel('Predicted label')\n",
    "\n",
    "plt.show(block=False)"
   ]
  },
  {
   "cell_type": "code",
   "execution_count": 17,
   "metadata": {},
   "outputs": [],
   "source": [
    "conf_matrix_plot.get_figure().savefig('indep_keys_conf_matrix.png')"
   ]
  },
  {
   "cell_type": "code",
   "execution_count": 18,
   "metadata": {},
   "outputs": [],
   "source": [
    "pred_df = pd.DataFrame(data={'Name': df.Name, 'Actual': y, 'Prediction': y_preds})"
   ]
  },
  {
   "cell_type": "code",
   "execution_count": 19,
   "metadata": {},
   "outputs": [],
   "source": [
    "pred_df.to_excel('indep_keys_preds.xlsx')"
   ]
  },
  {
   "cell_type": "markdown",
   "metadata": {},
   "source": [
    "## Data Transformation"
   ]
  },
  {
   "cell_type": "code",
<<<<<<< HEAD
   "execution_count": 20,
=======
   "execution_count": 54,
>>>>>>> d3f6863000245c32b4c856723e17425c293923c2
   "metadata": {},
   "outputs": [],
   "source": [
    "def shift_val(x):\n",
    "    if x <= 1:\n",
    "        return 1\n",
    "    if 2 <= x <= 4:\n",
    "        return 4\n",
    "    \n",
    "    return np.nan"
   ]
  },
  {
   "cell_type": "code",
<<<<<<< HEAD
   "execution_count": 21,
=======
   "execution_count": 55,
   "metadata": {},
   "outputs": [],
   "source": [
    "X = df[VARS.keys()]"
   ]
  },
  {
   "cell_type": "code",
   "execution_count": 56,
>>>>>>> d3f6863000245c32b4c856723e17425c293923c2
   "metadata": {},
   "outputs": [],
   "source": [
    "# X = X.applymap(lambda x: shift_val(x))"
   ]
  },
  {
   "cell_type": "code",
<<<<<<< HEAD
   "execution_count": 22,
=======
   "execution_count": 58,
>>>>>>> d3f6863000245c32b4c856723e17425c293923c2
   "metadata": {},
   "outputs": [],
   "source": [
    "# Train loop\n",
    "num_rows = X.shape[0]\n",
    "y_preds = [] \n",
    "\n",
    "for i in range(num_rows):\n",
    "    # get the test culture. Replace 2-4 with 4 and keep 1s the same\n",
    "    X_test = X[i:i+1].applymap(lambda x: shift_val(x))\n",
    "    y_test = X[i:i+1]\n",
    "    \n",
    "    # create train sets without single culture\n",
    "    X_train = X.drop(index=i, axis=1)\n",
    "    y_train = y.drop(index=i, axis=1)\n",
    "    \n",
    "    # get learned betas from logreg\n",
    "    betas_inter = generate_betas_and_intercepts(X_train, y_train)\n",
    "    \n",
    "    # returns prediction for a single culture\n",
    "    y_hat = predict_with_given_betas_and_intercepts(X_test, betas_inter)[0]\n",
    "    y_preds.append(y_hat)"
   ]
  },
  {
   "cell_type": "code",
<<<<<<< HEAD
   "execution_count": 23,
=======
   "execution_count": 59,
>>>>>>> d3f6863000245c32b4c856723e17425c293923c2
   "metadata": {},
   "outputs": [],
   "source": [
    "transformed_conf_matrix = confusion_matrix(y, y_preds)"
   ]
  },
  {
   "cell_type": "code",
<<<<<<< HEAD
   "execution_count": 24,
=======
   "execution_count": 63,
>>>>>>> d3f6863000245c32b4c856723e17425c293923c2
   "metadata": {},
   "outputs": [
    {
     "data": {
<<<<<<< HEAD
      "image/png": "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\n",
=======
      "image/png": "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\n",
>>>>>>> d3f6863000245c32b4c856723e17425c293923c2
      "text/plain": [
       "<Figure size 432x288 with 2 Axes>"
      ]
     },
     "metadata": {
      "needs_background": "light"
     },
     "output_type": "display_data"
    }
   ],
   "source": [
    "plt.rcParams['savefig.facecolor'] = 'white'\n",
    "trans_conf_matrix_plot = sns.heatmap(transformed_conf_matrix, annot=True)\n",
    "plt.title('Confusion matrix,   0=non-peace, 1=peace', y=1.1)\n",
    "\n",
    "plt.ylabel('Actual label')\n",
    "\n",
    "plt.xlabel('Predicted label')\n",
    "\n",
    "plt.show(block=False)"
   ]
  },
  {
   "cell_type": "code",
<<<<<<< HEAD
   "execution_count": 25,
   "metadata": {},
   "outputs": [],
   "source": [
    "conf_matrix_plot.get_figure().savefig('indep_keys_conf_matrix_1sand4s.png')"
=======
   "execution_count": 62,
   "metadata": {},
   "outputs": [],
   "source": [
    "X.to_excel('1or4_dataset.xlsx')"
   ]
  },
  {
   "cell_type": "code",
   "execution_count": 64,
   "metadata": {},
   "outputs": [],
   "source": [
    "trans_conf_matrix_plot.get_figure().savefig('1or4_indep_keys_conf_matrix.png')"
>>>>>>> d3f6863000245c32b4c856723e17425c293923c2
   ]
  },
  {
   "cell_type": "code",
   "execution_count": null,
   "metadata": {},
   "outputs": [],
   "source": []
  }
 ],
 "metadata": {
  "colab": {
   "name": "indep_keys.ipynb",
   "provenance": []
  },
  "kernelspec": {
   "display_name": "Python 3",
   "language": "python",
   "name": "python3"
  },
  "language_info": {
   "codemirror_mode": {
    "name": "ipython",
    "version": 3
   },
   "file_extension": ".py",
   "mimetype": "text/x-python",
   "name": "python",
   "nbconvert_exporter": "python",
   "pygments_lexer": "ipython3",
   "version": "3.7.3"
  }
 },
 "nbformat": 4,
 "nbformat_minor": 1
}
