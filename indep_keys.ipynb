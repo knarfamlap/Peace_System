{
 "cells": [
  {
   "cell_type": "code",
   "execution_count": 1,
   "metadata": {},
   "outputs": [],
   "source": [
    "import numpy as np\n",
    "import pandas as pd\n",
    "import matplotlib.pyplot as plt\n",
    "from sklearn.linear_model import LogisticRegression\n",
    "from sklearn.metrics import accuracy_score, recall_score, precision_score, f1_score, confusion_matrix, plot_confusion_matrix"
   ]
  },
  {
   "cell_type": "code",
   "execution_count": 20,
   "metadata": {},
   "outputs": [],
   "source": [
    "SEED = 42\n",
    "CSV_LOCATION = \"peace_sys.csv\""
   ]
  },
  {
   "cell_type": "code",
   "execution_count": 21,
   "metadata": {},
   "outputs": [],
   "source": [
    "VARS = {'ID1.1Over' : 'Overarching Identity', 'Int2.4Hist' : 'Interconnected Historically', \n",
    "        'Int2.2Econ' : 'Interconnected Economically', 'Dep3.3Econ' : 'Interdependent Economically', \n",
    "        'Dep3.2Ecol' : 'Interdependent Ecologically', 'NWNorm5.1': 'Non-Warring Norms', \n",
    "        'NWVal4.1' : 'Non-Warring Values', 'SymP6': 'Peace Symbols', 'RitP6' : 'Peace Rituals', \n",
    "        'CM8.5Peace' : 'Peaceful Conflict Management Overall'}"
   ]
  },
  {
   "cell_type": "code",
   "execution_count": 39,
   "metadata": {},
   "outputs": [],
   "source": [
    "def mode(x):\n",
    "    \"\"\"\n",
    "    Parameters\n",
    "    ----------\n",
    "        x: 1D numpy array\n",
    "        \n",
    "    Return\n",
    "    ------\n",
    "        scalar representing the mode of the arr\n",
    "    \"\"\"\n",
    "    # count number of 1 in x\n",
    "    one_sum = np.count_nonzero(x == 1)\n",
    "    # count number of 0 in x\n",
    "    zero_sum = np.count_nonzero(x == 0)\n",
    "    # return mode if a mode exists\n",
    "    if one_sum >= zero_sum:\n",
    "        return 1\n",
    "    \n",
    "    return 0"
   ]
  },
  {
   "cell_type": "code",
   "execution_count": 31,
   "metadata": {},
   "outputs": [],
   "source": [
    "def logistic_sigmoid(x, beta, intercept):\n",
    "    \"\"\"\n",
    "    Args: \n",
    "        x: scalar with score [1-4] for each factor for each obeservation.\n",
    "        betas: scalar betas extracted from logreg model.\n",
    "        intercept: number extracted from logreg model. Denoted as beta_0\n",
    "    Returns:\n",
    "        sscalar that represent the probability\n",
    "    \"\"\"\n",
    "    \n",
    "    return 1 / (1 + np.exp(-(intercept + beta * x)))"
   ]
  },
  {
   "cell_type": "code",
   "execution_count": 58,
   "metadata": {},
   "outputs": [],
   "source": [
    "def train_and_pred_on_feature(X, y):\n",
    "    \"\"\"\n",
    "    Trains logistic regression model on 1 feature.  X and y must have equal dimensions.\n",
    "    \n",
    "    Parameters\n",
    "    ----------\n",
    "    X: dataframe containing 1 column. Shape is (m, 1). m is the number of rows.\n",
    "        X can contain Nan values.\n",
    "    y: dataframe containing labels for each obeservation in X. \n",
    "        Same is (m, 1). m is the number of rows. \n",
    "        \n",
    "    Returns\n",
    "    -------\n",
    "    pred: prediction for feature. pred can be 0 or 1\n",
    "            \n",
    "    \"\"\"\n",
    "    # store the freature name for reference\n",
    "    feature_name = X.columns[0]\n",
    "    label = 'label'\n",
    "    # concatenate feature and labels into one df\n",
    "    concat_df = pd.DataFrame({feature_name: list(X[feature_name]), label: y})\n",
    "    # drop nan values\n",
    "    concat_df = concat_df.dropna()\n",
    "    # reasign values to feature df\n",
    "    X = pd.DataFrame(concat_df[feature_name])\n",
    "    # reasign values to label df\n",
    "    y = pd.DataFrame(concat_df[label])\n",
    "    # init model\n",
    "    logreg = LogisticRegression(random_state=SEED)\n",
    "    # train model\n",
    "    logreg.fit(X, y[label].ravel())\n",
    "    \n",
    "    intercept = logreg.intercept_[0]\n",
    "    beta = logreg.coef_[0][0]\n",
    "    # probas after pass into sigmoid \n",
    "    probas = logistic_sigmoid(np.array(X[feature_name]), beta, intercept)\n",
    "    # prediction, 0 or 1\n",
    "    pred = mode(probas)\n",
    "    \n",
    "    return pred\n"
   ]
  },
  {
   "cell_type": "code",
   "execution_count": 50,
   "metadata": {},
   "outputs": [],
   "source": [
    "def get_predictions(X, y):\n",
    "    \"\"\"\n",
    "    Gets predicition for each feature in X. \n",
    "    \n",
    "    Parameters\n",
    "    ---------\n",
    "    X: dataframe containing all observations. Shape (m, n)\n",
    "    y: dataframe containg all labels for each observaation in X. Shape (m, 1)\n",
    "    \n",
    "    Returns\n",
    "    -------\n",
    "    preds: array with n different predictions.\n",
    "    \n",
    "    \"\"\"\n",
    "    preds = []\n",
    "    \n",
    "    for col in X.columns:\n",
    "        # get the df for col\n",
    "        feature_df = pd.DataFrame(X[col])\n",
    "        # get prediciton\n",
    "        y_hat = train_and_pred_on_feature(feature_df, y)\n",
    "        # add to the other predictions\n",
    "        preds.append(y_hat)\n",
    "        \n",
    "    return preds"
   ]
  },
  {
   "cell_type": "code",
   "execution_count": 22,
   "metadata": {},
   "outputs": [],
   "source": [
    "df = pd.read_csv(CSV_LOCATION)"
   ]
  },
  {
   "cell_type": "code",
   "execution_count": 24,
   "metadata": {},
   "outputs": [],
   "source": [
    "X = df[VARS.keys()].replace(9, np.nan)"
   ]
  },
  {
   "cell_type": "code",
   "execution_count": 26,
   "metadata": {},
   "outputs": [],
   "source": [
    "y = df[\"PSysRec\"]"
   ]
  },
  {
   "cell_type": "code",
   "execution_count": 59,
   "metadata": {},
   "outputs": [],
   "source": [
    "y_preds = get_predictions(X, y)"
   ]
  },
  {
   "cell_type": "code",
   "execution_count": 62,
   "metadata": {},
   "outputs": [
    {
     "data": {
      "text/plain": [
       "[1, 1, 1, 1, 1, 1, 1, 1, 1, 1]"
      ]
     },
     "execution_count": 62,
     "metadata": {},
     "output_type": "execute_result"
    }
   ],
   "source": [
    "y_preds"
   ]
  },
  {
   "cell_type": "code",
   "execution_count": null,
   "metadata": {},
   "outputs": [],
   "source": []
  }
 ],
 "metadata": {
  "kernelspec": {
   "display_name": "Python 3",
   "language": "python",
   "name": "python3"
  },
  "language_info": {
   "codemirror_mode": {
    "name": "ipython",
    "version": 3
   },
   "file_extension": ".py",
   "mimetype": "text/x-python",
   "name": "python",
   "nbconvert_exporter": "python",
   "pygments_lexer": "ipython3",
   "version": "3.8.5"
  }
 },
 "nbformat": 4,
 "nbformat_minor": 4
}
