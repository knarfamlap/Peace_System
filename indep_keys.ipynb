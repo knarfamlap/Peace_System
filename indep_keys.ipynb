{
  "nbformat": 4,
  "nbformat_minor": 0,
  "metadata": {
    "kernelspec": {
      "display_name": "Python 3",
      "language": "python",
      "name": "python3"
    },
    "language_info": {
      "codemirror_mode": {
        "name": "ipython",
        "version": 3
      },
      "file_extension": ".py",
      "mimetype": "text/x-python",
      "name": "python",
      "nbconvert_exporter": "python",
      "pygments_lexer": "ipython3",
      "version": "3.8.5"
    },
    "colab": {
      "name": "indep_keys.ipynb",
      "provenance": []
    }
  },
  "cells": [
    {
      "cell_type": "code",
      "metadata": {
        "id": "3KaadkLYf5_8"
      },
      "source": [
        "import numpy as np\n",
        "import pandas as pd\n",
        "import matplotlib.pyplot as plt\n",
        "import seaborn as sns\n",
        "from sklearn.linear_model import LogisticRegression\n",
        "from sklearn.metrics import accuracy_score, recall_score, precision_score, f1_score, confusion_matrix, plot_confusion_matrix\n"
      ],
      "execution_count": 1,
      "outputs": []
    },
    {
      "cell_type": "code",
      "metadata": {
        "id": "aK8KXoN8f6AD"
      },
      "source": [
        "SEED = 42\n",
        "CSV_LOCATION = \"peace_sys.csv\""
      ],
      "execution_count": 2,
      "outputs": []
    },
    {
      "cell_type": "code",
      "metadata": {
        "id": "tYxbDen_f6AI"
      },
      "source": [
        "VARS = {'ID1.1Over' : 'Overarching Identity', 'Int2.4Hist' : 'Interconnected Historically', \n",
        "        'Int2.2Econ' : 'Interconnected Economically', 'Dep3.3Econ' : 'Interdependent Economically', \n",
        "        'Dep3.2Ecol' : 'Interdependent Ecologically', 'NWNorm5.1': 'Non-Warring Norms', \n",
        "        'NWVal4.1' : 'Non-Warring Values', 'SymP6': 'Peace Symbols', 'RitP6' : 'Peace Rituals', \n",
        "        'CM8.5Peace' : 'Peaceful Conflict Management Overall'}"
      ],
      "execution_count": 3,
      "outputs": []
    },
    {
      "cell_type": "code",
      "metadata": {
        "id": "mUKVvBk6f6AL"
      },
      "source": [
        "def mode(x):\n",
        "    \"\"\"\n",
        "    Parameters\n",
        "    ----------\n",
        "        x: 1D numpy array\n",
        "        \n",
        "    Return\n",
        "    ------\n",
        "        scalar representing the mode of the arr\n",
        "    \"\"\"\n",
        "    # count number of 1 in x\n",
        "    one_sum = np.count_nonzero(x == 1)\n",
        "    # count number of 0 in x\n",
        "    zero_sum = np.count_nonzero(x == 0)\n",
        "    # return mode if a mode exists\n",
        "    if one_sum > zero_sum:\n",
        "        return 1\n",
        "\n",
        "    if one_sum == zero_sum:\n",
        "      return 2\n",
        "    \n",
        "    return 0"
      ],
      "execution_count": 35,
      "outputs": []
    },
    {
      "cell_type": "code",
      "metadata": {
        "id": "CgUcnGcUf6AP"
      },
      "source": [
        "def logistic_sigmoid(x, beta, intercept):\n",
        "    \"\"\"\n",
        "    Args: \n",
        "        x: scalar with score [1-4] for each factor for each obeservation.\n",
        "        betas: scalar betas extracted from logreg model.\n",
        "        intercept: number extracted from logreg model. Denoted as beta_0\n",
        "    Returns:\n",
        "        sscalar that represent the probability\n",
        "    \"\"\"\n",
        "    \n",
        "    return 1 / (1 + np.exp(-(intercept + beta * x)))"
      ],
      "execution_count": 5,
      "outputs": []
    },
    {
      "cell_type": "code",
      "metadata": {
        "id": "lLgpoEppf6AR"
      },
      "source": [
        "def train_on_feature(X, y):\n",
        "    \"\"\"\n",
        "    Trains logistic regression model on 1 feature.  X and y must have equal dimensions.\n",
        "    \n",
        "    Parameters\n",
        "    ----------\n",
        "    X: dataframe containing 1 column. Shape is (m, 1). m is the number of rows.\n",
        "        X can contain Nan values.\n",
        "    y: dataframe containing labels for each obeservation in X. \n",
        "        Same is (m, 1). m is the number of rows. \n",
        "        \n",
        "    Returns\n",
        "    -------\n",
        "    \n",
        "            \n",
        "    \"\"\"\n",
        "    # store the freature name for reference\n",
        "    feature_name = X.columns[0]\n",
        "    label = 'label'\n",
        "    # concatenate feature and labels into one df\n",
        "    concat_df = pd.DataFrame({feature_name: list(X[feature_name]), label: y})\n",
        "    # drop nan values\n",
        "    concat_df = concat_df.dropna()\n",
        "    # reasign values to feature df\n",
        "    X = pd.DataFrame(concat_df[feature_name])\n",
        "    # reasign values to label df\n",
        "    y = pd.DataFrame(concat_df[label])\n",
        "    # init model\n",
        "    logreg = LogisticRegression(random_state=SEED)\n",
        "    # train model\n",
        "    logreg.fit(X, y[label].ravel())\n",
        "    \n",
        "    intercept = logreg.intercept_[0]\n",
        "    beta = logreg.coef_[0][0]\n",
        "    \n",
        "    return beta, intercept\n"
      ],
      "execution_count": 6,
      "outputs": []
    },
    {
      "cell_type": "code",
      "metadata": {
        "id": "hetWCxuPf6AT"
      },
      "source": [
        "def generate_betas_and_intercepts(X, y):\n",
        "    \"\"\"\n",
        "    Genearates beta, and intercept for each feature in X. \n",
        "    \n",
        "    Parameters\n",
        "    ---------\n",
        "    X: dataframe containing all observations. Shape (m, n)\n",
        "    y: dataframe containg all labels for each observaation in X. Shape (m, 1)\n",
        "    \n",
        "    Returns\n",
        "    -------\n",
        "    res: dataframe containg beta and intercepts for each feature. res columns have the pattern\n",
        "        (beta, intercept)\n",
        "    \n",
        "    \"\"\"\n",
        "    # store beta and intercept for each feature\n",
        "    res = pd.DataFrame()\n",
        "    \n",
        "    for col in X.columns:\n",
        "        # get the df for col\n",
        "        feature_df = pd.DataFrame(X[col])\n",
        "        # get prediciton\n",
        "        beta, intercept = train_on_feature(feature_df, y)\n",
        "        # add to the other predictions\n",
        "        res[col] = [(beta, intercept)]\n",
        "        \n",
        "    return res"
      ],
      "execution_count": 7,
      "outputs": []
    },
    {
      "cell_type": "code",
      "metadata": {
        "id": "mIwCD1yKf6AU"
      },
      "source": [
        "def predict_with_given_betas_and_intercepts(X, betas_intercepts):\n",
        "    \"\"\"\n",
        "    Predict a 0 or 1 value for each observation given the beta and intercept for each feature\n",
        "    \n",
        "    Parameters\n",
        "    ---------\n",
        "    X: dataframe containing all observations. Shape (m, n)\n",
        "    betas_intercepts: dataframe containing one row. each cell contains a tuple described as (beta, intercept).\n",
        "    \n",
        "    Returns\n",
        "    ------\n",
        "    y_preds: array that cointains a predictions for each culture(observation). There are 42 observations\n",
        "    \n",
        "    \"\"\"\n",
        "    # get the humber of rows\n",
        "    num_rows = X.shape[0]\n",
        "    y_preds = []\n",
        "    \n",
        "    for i in range(num_rows):\n",
        "        # get the current row\n",
        "        curr = X.iloc[i]\n",
        "        # create copy of betas_intercepts df\n",
        "        beta_inter_copy = betas_intercepts\n",
        "        # append the row to the copy\n",
        "        concat_df = beta_inter_copy.append(curr)\n",
        "        # drop columns that have missing values\n",
        "        concat_df = concat_df.dropna(axis=1)\n",
        "        # contains all the prediction for each observation \n",
        "        preds = []\n",
        "        for col in concat_df.columns:\n",
        "            # get the beta\n",
        "            beta = concat_df[col].iloc[0][0] \n",
        "            # get the intercept\n",
        "            intercept = concat_df[col].iloc[0][1]\n",
        "            # get the observation that is an int from 1-4\n",
        "            observation = concat_df[col].iloc[1]\n",
        "            obs_pred = logistic_sigmoid(observation, beta, intercept)\n",
        "            # append to predictions arr\n",
        "            preds.append(obs_pred)\n",
        "        # convert values >= 0.5 to 1, otherwise 0\n",
        "        preds = list(map(lambda x: 1 if x >= 0.5 else 0, preds))\n",
        "        # get the mode to give a final classification\n",
        "        preds_mode = mode(np.array(preds))\n",
        "        y_preds.append(preds_mode)\n",
        "        print(\"Culture Index: {}, Pred: {}\".format(i, preds_mode))\n",
        "        \n",
        "        \n",
        "    return y_preds\n"
      ],
      "execution_count": 57,
      "outputs": []
    },
    {
      "cell_type": "code",
      "metadata": {
        "id": "tiGLRc0rf6AV"
      },
      "source": [
        "df = pd.read_csv(CSV_LOCATION)"
      ],
      "execution_count": 10,
      "outputs": []
    },
    {
      "cell_type": "code",
      "metadata": {
        "id": "NdCisxaVf6AW"
      },
      "source": [
        "X = df[VARS.keys()].replace(9, np.nan)"
      ],
      "execution_count": 11,
      "outputs": []
    },
    {
      "cell_type": "code",
      "metadata": {
        "id": "CmYBA2zhf6AX"
      },
      "source": [
        "y = df[\"PSysRec\"]"
      ],
      "execution_count": 12,
      "outputs": []
    },
    {
      "cell_type": "code",
      "metadata": {
        "id": "OAGgxvz6f6AY"
      },
      "source": [
        "gen = generate_betas_and_intercepts(X, y)"
      ],
      "execution_count": 36,
      "outputs": []
    },
    {
      "cell_type": "code",
      "metadata": {
        "id": "KMN5Yov_f6AZ",
        "outputId": "22da49ab-61de-4e73-946e-8d095452a867",
        "colab": {
          "base_uri": "https://localhost:8080/"
        }
      },
      "source": [
        "y_pred = predict_with_given_betas_and_intercepts(X, gen)"
      ],
      "execution_count": 58,
      "outputs": [
        {
          "output_type": "stream",
          "text": [
            "Culture Index: 0, Pred: 2\n",
            "Culture Index: 1, Pred: 0\n",
            "Culture Index: 2, Pred: 0\n",
            "Culture Index: 3, Pred: 2\n",
            "Culture Index: 4, Pred: 1\n",
            "Culture Index: 5, Pred: 0\n",
            "Culture Index: 6, Pred: 0\n",
            "Culture Index: 7, Pred: 2\n",
            "Culture Index: 8, Pred: 2\n",
            "Culture Index: 9, Pred: 0\n",
            "Culture Index: 10, Pred: 2\n",
            "Culture Index: 11, Pred: 2\n",
            "Culture Index: 12, Pred: 2\n",
            "Culture Index: 13, Pred: 0\n",
            "Culture Index: 14, Pred: 1\n",
            "Culture Index: 15, Pred: 1\n",
            "Culture Index: 16, Pred: 0\n",
            "Culture Index: 17, Pred: 1\n",
            "Culture Index: 18, Pred: 0\n",
            "Culture Index: 19, Pred: 2\n",
            "Culture Index: 20, Pred: 0\n",
            "Culture Index: 21, Pred: 0\n",
            "Culture Index: 22, Pred: 0\n",
            "Culture Index: 23, Pred: 2\n",
            "Culture Index: 24, Pred: 2\n",
            "Culture Index: 25, Pred: 0\n",
            "Culture Index: 26, Pred: 2\n",
            "Culture Index: 27, Pred: 0\n",
            "Culture Index: 28, Pred: 0\n",
            "Culture Index: 29, Pred: 0\n",
            "Culture Index: 30, Pred: 1\n",
            "Culture Index: 31, Pred: 1\n",
            "Culture Index: 32, Pred: 1\n",
            "Culture Index: 33, Pred: 1\n",
            "Culture Index: 34, Pred: 1\n",
            "Culture Index: 35, Pred: 1\n",
            "Culture Index: 36, Pred: 1\n",
            "Culture Index: 37, Pred: 1\n",
            "Culture Index: 38, Pred: 1\n",
            "Culture Index: 39, Pred: 0\n",
            "Culture Index: 40, Pred: 1\n",
            "Culture Index: 41, Pred: 1\n",
            "Culture Index: 42, Pred: 1\n",
            "Culture Index: 43, Pred: 1\n",
            "Culture Index: 44, Pred: 1\n",
            "Culture Index: 45, Pred: 1\n"
          ],
          "name": "stdout"
        }
      ]
    },
    {
      "cell_type": "code",
      "metadata": {
        "id": "Ev2nPfxof6Aa"
      },
      "source": [
        "conf_matrix = confusion_matrix(y, y_pred)"
      ],
      "execution_count": 38,
      "outputs": []
    },
    {
      "cell_type": "code",
      "metadata": {
        "id": "dI69U-Mkf6Ab",
        "outputId": "1a6e317f-5a5b-4c43-b19e-1438571f0c21",
        "colab": {
          "base_uri": "https://localhost:8080/",
          "height": 295
        }
      },
      "source": [
        "conf_matrix_plot = sns.heatmap(conf_matrix, annot=True)\n",
        "plt.title('Confusion matrix,   0=non-peace, 1=peace', y=1.1)\n",
        "\n",
        "plt.ylabel('Actual label')\n",
        "\n",
        "plt.xlabel('Predicted label')\n",
        "\n",
        "plt.show(block=False)"
      ],
      "execution_count": 39,
      "outputs": [
        {
          "output_type": "display_data",
          "data": {
            "image/png": "[encoded data removed]",
            "text/plain": [
              "<Figure size 432x288 with 2 Axes>"
            ]
          },
          "metadata": {
            "tags": [],
            "needs_background": "light"
          }
        }
      ]
    },
    {
      "cell_type": "code",
      "metadata": {
        "id": "-v3SujtHf6Ac"
      },
      "source": [
        "conf_matrix_plot.get_figure().savefig('indep_keys_conf_matrix.png')"
      ],
      "execution_count": 17,
      "outputs": []
    },
    {
      "cell_type": "code",
      "metadata": {
        "id": "1fqDA9juf6Ad",
        "outputId": "312e3a0a-4032-481f-ba45-517d61648560",
        "colab": {
          "base_uri": "https://localhost:8080/"
        }
      },
      "source": [
        "X.shape"
      ],
      "execution_count": 34,
      "outputs": [
        {
          "output_type": "execute_result",
          "data": {
            "text/plain": [
              "(46, 10)"
            ]
          },
          "metadata": {
            "tags": []
          },
          "execution_count": 34
        }
      ]
    },
    {
      "cell_type": "code",
      "metadata": {
        "id": "AvsFEzywl2X1",
        "outputId": "ccbc4780-7939-422b-c41f-4377784b1835",
        "colab": {
          "base_uri": "https://localhost:8080/",
          "height": 1000
        }
      },
      "source": [
        "pd.DataFrame(data=y_pred, index=df.Name, columns=['Prediction'])"
      ],
      "execution_count": 69,
      "outputs": [
        {
          "output_type": "execute_result",
          "data": {
            "text/html": [
              "<div>\n",
              "<style scoped>\n",
              "    .dataframe tbody tr th:only-of-type {\n",
              "        vertical-align: middle;\n",
              "    }\n",
              "\n",
              "    .dataframe tbody tr th {\n",
              "        vertical-align: top;\n",
              "    }\n",
              "\n",
              "    .dataframe thead th {\n",
              "        text-align: right;\n",
              "    }\n",
              "</style>\n",
              "<table border=\"1\" class=\"dataframe\">\n",
              "  <thead>\n",
              "    <tr style=\"text-align: right;\">\n",
              "      <th></th>\n",
              "      <th>Prediction</th>\n",
              "    </tr>\n",
              "    <tr>\n",
              "      <th>Name</th>\n",
              "      <th></th>\n",
              "    </tr>\n",
              "  </thead>\n",
              "  <tbody>\n",
              "    <tr>\n",
              "      <th>Gilbertese</th>\n",
              "      <td>2</td>\n",
              "    </tr>\n",
              "    <tr>\n",
              "      <th>Marshallese</th>\n",
              "      <td>0</td>\n",
              "    </tr>\n",
              "    <tr>\n",
              "      <th>E. Pomo</th>\n",
              "      <td>0</td>\n",
              "    </tr>\n",
              "    <tr>\n",
              "      <th>Popoluca</th>\n",
              "      <td>2</td>\n",
              "    </tr>\n",
              "    <tr>\n",
              "      <th>Konso</th>\n",
              "      <td>1</td>\n",
              "    </tr>\n",
              "    <tr>\n",
              "      <th>Bribri</th>\n",
              "      <td>0</td>\n",
              "    </tr>\n",
              "    <tr>\n",
              "      <th>Tallensi</th>\n",
              "      <td>0</td>\n",
              "    </tr>\n",
              "    <tr>\n",
              "      <th>Russians</th>\n",
              "      <td>2</td>\n",
              "    </tr>\n",
              "    <tr>\n",
              "      <th>Trukese</th>\n",
              "      <td>2</td>\n",
              "    </tr>\n",
              "    <tr>\n",
              "      <th>Toraja</th>\n",
              "      <td>0</td>\n",
              "    </tr>\n",
              "    <tr>\n",
              "      <th>Pawnee</th>\n",
              "      <td>2</td>\n",
              "    </tr>\n",
              "    <tr>\n",
              "      <th>Rhade</th>\n",
              "      <td>2</td>\n",
              "    </tr>\n",
              "    <tr>\n",
              "      <th>Burmese</th>\n",
              "      <td>2</td>\n",
              "    </tr>\n",
              "    <tr>\n",
              "      <th>Timbira</th>\n",
              "      <td>0</td>\n",
              "    </tr>\n",
              "    <tr>\n",
              "      <th>Basseri</th>\n",
              "      <td>1</td>\n",
              "    </tr>\n",
              "    <tr>\n",
              "      <th>Havasupai</th>\n",
              "      <td>1</td>\n",
              "    </tr>\n",
              "    <tr>\n",
              "      <th>Yukaghir</th>\n",
              "      <td>0</td>\n",
              "    </tr>\n",
              "    <tr>\n",
              "      <th>Comanche</th>\n",
              "      <td>1</td>\n",
              "    </tr>\n",
              "    <tr>\n",
              "      <th>Jivaro</th>\n",
              "      <td>0</td>\n",
              "    </tr>\n",
              "    <tr>\n",
              "      <th>Yanomamo</th>\n",
              "      <td>2</td>\n",
              "    </tr>\n",
              "    <tr>\n",
              "      <th>Burusho</th>\n",
              "      <td>0</td>\n",
              "    </tr>\n",
              "    <tr>\n",
              "      <th>Taureg</th>\n",
              "      <td>0</td>\n",
              "    </tr>\n",
              "    <tr>\n",
              "      <th>Shavante</th>\n",
              "      <td>0</td>\n",
              "    </tr>\n",
              "    <tr>\n",
              "      <th>Kurds</th>\n",
              "      <td>2</td>\n",
              "    </tr>\n",
              "    <tr>\n",
              "      <th>Yapese</th>\n",
              "      <td>2</td>\n",
              "    </tr>\n",
              "    <tr>\n",
              "      <th>Teda</th>\n",
              "      <td>0</td>\n",
              "    </tr>\n",
              "    <tr>\n",
              "      <th>Vietnamese</th>\n",
              "      <td>2</td>\n",
              "    </tr>\n",
              "    <tr>\n",
              "      <th>Kikuyu</th>\n",
              "      <td>0</td>\n",
              "    </tr>\n",
              "    <tr>\n",
              "      <th>Omaha</th>\n",
              "      <td>0</td>\n",
              "    </tr>\n",
              "    <tr>\n",
              "      <th>Natchez</th>\n",
              "      <td>0</td>\n",
              "    </tr>\n",
              "    <tr>\n",
              "      <th>Switzerland</th>\n",
              "      <td>1</td>\n",
              "    </tr>\n",
              "    <tr>\n",
              "      <th>Iroquois</th>\n",
              "      <td>1</td>\n",
              "    </tr>\n",
              "    <tr>\n",
              "      <th>Orang Asli</th>\n",
              "      <td>1</td>\n",
              "    </tr>\n",
              "    <tr>\n",
              "      <th>Nilgiri Pla.</th>\n",
              "      <td>1</td>\n",
              "    </tr>\n",
              "    <tr>\n",
              "      <th>Wynaad Pla.</th>\n",
              "      <td>1</td>\n",
              "    </tr>\n",
              "    <tr>\n",
              "      <th>Nordic Nats.</th>\n",
              "      <td>1</td>\n",
              "    </tr>\n",
              "    <tr>\n",
              "      <th>Up Xingu RB</th>\n",
              "      <td>1</td>\n",
              "    </tr>\n",
              "    <tr>\n",
              "      <th>W. Australia</th>\n",
              "      <td>1</td>\n",
              "    </tr>\n",
              "    <tr>\n",
              "      <th>Mon-Naskapi</th>\n",
              "      <td>1</td>\n",
              "    </tr>\n",
              "    <tr>\n",
              "      <th>Italy</th>\n",
              "      <td>0</td>\n",
              "    </tr>\n",
              "    <tr>\n",
              "      <th>So Cone</th>\n",
              "      <td>1</td>\n",
              "    </tr>\n",
              "    <tr>\n",
              "      <th>Netherlands</th>\n",
              "      <td>1</td>\n",
              "    </tr>\n",
              "    <tr>\n",
              "      <th>USA</th>\n",
              "      <td>1</td>\n",
              "    </tr>\n",
              "    <tr>\n",
              "      <th>Mbuti</th>\n",
              "      <td>1</td>\n",
              "    </tr>\n",
              "    <tr>\n",
              "      <th>Juhoansi</th>\n",
              "      <td>1</td>\n",
              "    </tr>\n",
              "    <tr>\n",
              "      <th>EU</th>\n",
              "      <td>1</td>\n",
              "    </tr>\n",
              "  </tbody>\n",
              "</table>\n",
              "</div>"
            ],
            "text/plain": [
              "              Prediction\n",
              "Name                    \n",
              "Gilbertese             2\n",
              "Marshallese            0\n",
              "E. Pomo                0\n",
              "Popoluca               2\n",
              "Konso                  1\n",
              "Bribri                 0\n",
              "Tallensi               0\n",
              "Russians               2\n",
              "Trukese                2\n",
              "Toraja                 0\n",
              "Pawnee                 2\n",
              "Rhade                  2\n",
              "Burmese                2\n",
              "Timbira                0\n",
              "Basseri                1\n",
              "Havasupai              1\n",
              "Yukaghir               0\n",
              "Comanche               1\n",
              "Jivaro                 0\n",
              "Yanomamo               2\n",
              "Burusho                0\n",
              "Taureg                 0\n",
              "Shavante               0\n",
              "Kurds                  2\n",
              "Yapese                 2\n",
              "Teda                   0\n",
              "Vietnamese             2\n",
              "Kikuyu                 0\n",
              "Omaha                  0\n",
              "Natchez                0\n",
              "Switzerland            1\n",
              "Iroquois               1\n",
              "Orang Asli             1\n",
              "Nilgiri Pla.           1\n",
              "Wynaad Pla.            1\n",
              "Nordic Nats.           1\n",
              "Up Xingu RB            1\n",
              "W. Australia           1\n",
              "Mon-Naskapi            1\n",
              "Italy                  0\n",
              "So Cone                1\n",
              "Netherlands            1\n",
              "USA                    1\n",
              "Mbuti                  1\n",
              "Juhoansi               1\n",
              "EU                     1"
            ]
          },
          "metadata": {
            "tags": []
          },
          "execution_count": 69
        }
      ]
    },
    {
      "cell_type": "code",
      "metadata": {
        "id": "fq4kcJY_nMhz",
        "outputId": "a8d72ef8-147e-47b2-84c6-169c503a5109",
        "colab": {
          "base_uri": "https://localhost:8080/"
        }
      },
      "source": [
        "len(y_pred)"
      ],
      "execution_count": 51,
      "outputs": [
        {
          "output_type": "execute_result",
          "data": {
            "text/plain": [
              "46"
            ]
          },
          "metadata": {
            "tags": []
          },
          "execution_count": 51
        }
      ]
    },
    {
      "cell_type": "code",
      "metadata": {
        "id": "6IFGZKoKoqE2",
        "outputId": "dc26d09d-3d0e-4d89-85c3-5e08509a5ad2",
        "colab": {
          "base_uri": "https://localhost:8080/"
        }
      },
      "source": [
        "df.Name"
      ],
      "execution_count": 60,
      "outputs": [
        {
          "output_type": "execute_result",
          "data": {
            "text/plain": [
              "0       Gilbertese\n",
              "1      Marshallese\n",
              "2          E. Pomo\n",
              "3         Popoluca\n",
              "4            Konso\n",
              "5           Bribri\n",
              "6         Tallensi\n",
              "7         Russians\n",
              "8          Trukese\n",
              "9           Toraja\n",
              "10          Pawnee\n",
              "11           Rhade\n",
              "12         Burmese\n",
              "13         Timbira\n",
              "14         Basseri\n",
              "15       Havasupai\n",
              "16        Yukaghir\n",
              "17        Comanche\n",
              "18          Jivaro\n",
              "19        Yanomamo\n",
              "20         Burusho\n",
              "21          Taureg\n",
              "22        Shavante\n",
              "23           Kurds\n",
              "24          Yapese\n",
              "25            Teda\n",
              "26      Vietnamese\n",
              "27          Kikuyu\n",
              "28           Omaha\n",
              "29         Natchez\n",
              "30     Switzerland\n",
              "31        Iroquois\n",
              "32      Orang Asli\n",
              "33    Nilgiri Pla.\n",
              "34     Wynaad Pla.\n",
              "35    Nordic Nats.\n",
              "36     Up Xingu RB\n",
              "37    W. Australia\n",
              "38     Mon-Naskapi\n",
              "39           Italy\n",
              "40         So Cone\n",
              "41     Netherlands\n",
              "42             USA\n",
              "43           Mbuti\n",
              "44        Juhoansi\n",
              "45              EU\n",
              "Name: Name, dtype: object"
            ]
          },
          "metadata": {
            "tags": []
          },
          "execution_count": 60
        }
      ]
    },
    {
      "cell_type": "code",
      "metadata": {
        "id": "s1JUZJH9pPxN"
      },
      "source": [
        ""
      ],
      "execution_count": null,
      "outputs": []
    }
  ]
}